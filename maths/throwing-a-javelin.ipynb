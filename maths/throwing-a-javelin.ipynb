{
 "cells": [
  {
   "cell_type": "markdown",
   "id": "fb8d8a73-5e61-475c-8c08-ebe75659f586",
   "metadata": {},
   "source": [
    "# Throwing a javelin\n",
    "\n",
    "We've been given the following problem to solve:\n",
    "\n",
    "**Speerwurf**: Die Flugbahn eines Speeres kann ohne Berücksichtigung der Luftreibung durch die Funktion $f$ mit $f(x) = -0,02625 x^2 + x + 2$ beschrieben werden.  Dabei bezeichnet $x$ die horizontale Entfernung vom Abwurfpunkt und $f(x)$ die Höhe des Speeres über dem Boden in Meter.\n",
    "\n",
    "  - a) Bestimmen Sie den Punkt, an dem der Speer auf den Boden trifft.\n",
    "  - b) Bestimmen Sie den höchsten Punkt der Flugbahn.\n",
    "  - c) Bestimmen Sie die Weite und den höchsten Punkt, wenn die Flugbahn durch $f(x) = -0,03 x^2 + x + 2$ beschrieben wird."
   ]
  },
  {
   "cell_type": "markdown",
   "id": "663e3ad3-fc11-4315-8cef-e5fc9181aed8",
   "metadata": {},
   "source": [
    "## Translation into English\n",
    "\n",
    "As is common in such situations, we first have to translate the text from the original German into a language we are a bit more familiar with, in our case: English.  One translation of the question might look like this:\n",
    "\n",
    "**Javelin throw**: the flight path of a javelin (excluding the effects of air resistance) can be described by the function $f(x) = -0.0265 x^2 + x + 2$, where $x$ describes the horizontal distance (in metres) from the point where the javelin was thrown and $f(x)$ describes the height of the javelin above the ground (also in metres).\n",
    "\n",
    "  - a) determine the point at which the javelin hits the ground.\n",
    "  - b) determine the highest point of the javelin's path.\n",
    "  - c) determine the distance and highest point when the path is described by $f(x) = -0.03 x^2 + x + 2$.\n",
    "\n",
    "Let's pick this apart a bit.\n",
    "\n",
    "**Speer**: There are two ways to translate the word Speer into English, depending upon context.  In the context of sport (such as at the Olympic Games for instance), then a Speer is called a [javelin](https://en.wikipedia.org/wiki/Javelin_throw) in English.  However, in the context of its use as a weapon (for instance in its use in medieval Europe or ancient Greece), then it would be called a [spear](https://en.wikipedia.org/wiki/Spear) (the term \"javelin\" does turn up in the warfare context as a [type of light spear](https://en.wikipedia.org/wiki/Javelin)).\n",
    "\n",
    "**Berücksichtigung**: A noun meaning to take something into consideration.  The important parts of the word are \"rück\" indicating \"backwards\" or \"behind\" and \"Sicht\" meaning sight.  In other words if you look at things things behind you, then the idea is that you're taking them into consideration as well as the things in front of you (which you're already taking into consideration).\n",
    "\n",
    "**Luftreibung**: I translated this as \"[air resistance](https://en.wikipedia.org/wiki/Drag_(physics))\", however one could also translate this as \"air friction\" or \"friction due to the air\", but \"air resistance\" felt like the more standard term.  If one literally translates this word then one gets \"air rubbing\", hence why \"air friction\" could be a valid translation as that's all that friction is: a kind of rubbing which tends to slow things down.\n",
    "\n",
    "**Flugbahn**: Literally translated this ends up being \"flight path\" which is also a valid actual translation.  One could also use the word \"trajectory\" here.  Note that although the word \"Bahn\" is often used in connection with trains, the word actually has a much more general meaning of \"path\" or \"way\", which one can see in the English word \"railway\" which relates to the German \"Eisenbahn\" (iron way/path; note that rails for trains are made of iron).\n",
    "\n",
    "**Abwurfpunkt**: The translation I use here is \"the point from which the javelin is thrown\" and is one of those situations where a German word (although seemlingly quite long) is actually significantly shorter than the equivalent English (it's got to happen *sometimes*, right?).  Pulling the word apart we have\n",
    "\n",
    "  - \"ab\" which is the preposition for \"away\" or \"down\" and gives the sense of something moving away from a given point.\n",
    "  - \"Wurf\" the word for \"throw\".\n",
    "  - \"Punkt\" the word for \"point\".\n",
    "\n",
    "Thus we could call this the \"away-throw-point\" which, although one can understand the sense of what's going on here, it's going to sound a bit weird in an English speaker's ears."
   ]
  },
  {
   "cell_type": "markdown",
   "id": "c7a247f1-a71e-4298-9145-e10a32830a47",
   "metadata": {},
   "source": [
    "## Plotting the function\n",
    "\n",
    "Because computers are good at plotting data, and because plotting curves is a good way to get a feel for what the function looks like, let's now plot the function $f(x)$.  To do this, we'll use a little bit of [Python](https://www.python.org/)."
   ]
  },
  {
   "cell_type": "code",
   "execution_count": 1,
   "id": "f74787a9-e08d-45aa-a021-a907a1b4462f",
   "metadata": {},
   "outputs": [
    {
     "data": {
      "image/png": "[encoded data removed]",
      "text/plain": [
       "<Figure size 640x480 with 1 Axes>"
      ]
     },
     "metadata": {},
     "output_type": "display_data"
    }
   ],
   "source": [
    "import numpy as np  # import the numerical libraries and give them the name \"np\"\n",
    "import matplotlib.pyplot as plt  # import the plotting libraries and give them the name \"plt\"\n",
    "\n",
    "# define the function we want to plot\n",
    "# this uses the general form of a parabola: a x^2 + b x + c\n",
    "def f(x, a=-0.02625, b=1, c=2):\n",
    "    return a*x**2 + b*x + c\n",
    "\n",
    "# define a range of x points (which we call \"xs\" here) from 0 to 50 metres in steps of 0.1m\n",
    "xs = np.arange(0, 50, 0.1)\n",
    "# determine the values on the y-axis from the function f(x) which we defined above (which we call \"fs\" here)\n",
    "fs = [f(x) for x in xs]\n",
    "\n",
    "fig, ax = plt.subplots()  # set up the plot\n",
    "# set the axes labels and plot title\n",
    "ax.set_xlabel('x (m)')\n",
    "ax.set_ylabel('f(x) (m)')\n",
    "ax.set_title('A javelin throw')\n",
    "# plot the data\n",
    "ax.plot(xs, fs)\n",
    "# add a grid to the plot to more easily see the function's values\n",
    "plt.grid()\n",
    "# show the plot\n",
    "plt.show()"
   ]
  },
  {
   "cell_type": "markdown",
   "id": "5b8f26d7-9cc0-4e2c-9773-547e08e461e6",
   "metadata": {},
   "source": [
    "Note that the above Python code is editable, so try changing some of the values and then select \"Run selected cell\" from the \"Run\" menu to see what effect changing the numbers has on the shape of the function.\n",
    "\n",
    "Note also that I simply guessed the necessary range of $x$ values; it was clear from the question that the values should start at 0, but the value of 50 was just a guess.\n",
    "\n",
    "Now that we've plotted the function, some things become more obvious: the javelin is thrown from some initial non-zero height above the ground (i.e. the curve doesn't cross the $y$-axis at the value 0) which makes sense because someone throwing the javelin will be holding it in their hand above their head and this some positive value.  We can work out exactly what this value is by setting $x = 0$ (the javelin's starting point) in the equation for the function:\n",
    "\n",
    "$$\n",
    "f(0) = -0.02625 \\cdot 0^2 + 0 + 2 = 2m\n",
    "$$\n",
    "\n",
    "In other words, the javelin is held 2m above the ground when it is let go.\n",
    "\n",
    "We also get to see some other information: the curve crosses the $x$ axis at approximately 40m distance, so this gives us a ballpark estimation of what value we might get for part (a) of the question.  The fact that we have negative height values is simply because I chose $x$ values from 0 to 50 and from roughly 40m up to 50m the function becomes negative.  We know that this isn't a physically logical situation (I mean, the javelin would have had to have hit the ground *very hard* for it to go almost 15m below ground level!), so we can ignore the negative $f(x)$ values in this upper range.\n",
    "\n",
    "One thing that the plot hints at but doesn't explicitly mention is that we could extend the curve in the *negative* $x$ direction to see where the javelin might have come from had it started its trajectory from the ground level; after all, we can equally well put negative $x$ values into $f(x)$ as we can positive $x$ values.\n",
    "\n",
    "Now that we've got some intuition about the problem at hand, let's start solving things exactly."
   ]
  },
  {
   "cell_type": "markdown",
   "id": "bd3982c8-4bd5-403a-8d63-ce9b73e7464b",
   "metadata": {},
   "source": [
    "## Determining the point at which the javelin hits the ground\n",
    "\n",
    "There are two equivalent ways to solve this problem and which path you choose depends upon where you live.  Let me explain.  In English speaking countries it is common to use the  [quadratic formula](https://en.wikipedia.org/wiki/Quadratic_formula) to find the roots of a quadratic equation (which is what we need to do here; see later).  I live in Germany now, and the quadratic formula isn't taught in schools here. Instead, high-school students are taught the [p-q formula](https://de.wikipedia.org/wiki/Quadratische_Gleichung#L%C3%B6sungsformel_f%C3%BCr_die_Normalform_(p-q-Formel)), which amounts to the same thing as the quadratic formula.  The p-q formula results from solving the [reduced quadratic equation](https://en.wikipedia.org/wiki/Quadratic_equation#Reduced_quadratic_equation) for reasons which I will explain below.  For completeness, I'm going to mention both methods here.  Let's call the two root-finding methods \"the English way\" and \"the Germany way\" respectively.\n",
    "\n",
    "### The English way\n",
    "\n",
    "If we rewrite the function $f(x)$ in its general form, we have\n",
    "\n",
    "$$\n",
    "f(x) = a x^2 + b x + c\n",
    "$$\n",
    "\n",
    "In the case we're discussing here, the parameters $a$, $b$ and $c$ are: $a = -0.02625$, $b = 1$ and $c = 2$.  If we were writing this out by hand, this change would save us from having to write long decimal numbers such as -0.02625 all of the time and thus reduces the risk of missing a decimal place or a minus sign.  Hence it's usually a good idea to write a function like what we have here in its general form so that we can manipulate it more easily and then simply enter the required numbers at the end of any algebraic manipulations we might need to make.\n",
    "\n",
    "Note that the coefficient $a$ is negative: this means that the parabola curves upwards to a maximum and then curves downwards again (because mathematicians love giving things names, this is called a [*concave* function](https://en.wikipedia.org/wiki/Concave_function)).  A positive value of $a$ will curve downwards to a minimum and then curve upwards again (which is then called a [*convex* function](https://en.wikipedia.org/wiki/Convex_function)).  Try changing the value of $a$ in the Python code above to see what effect changing its sign has.\n",
    "\n",
    "To find out where the javelin hits the ground, we need to work out when $f(x)$ is equal to zero (i.e. at ground level).  This is the same thing as working out where the curve from the plot above crosses the $x$ axis.  Note that because the function is a [parabola](https://en.wikipedia.org/wiki/Parabola) (i.e. a [polynomial](https://en.wikipedia.org/wiki/Polynomial) of degree 2) this will happen in two places: one at the end of the javelin's path of flight and one *behind* where the javelin was let go (the function merely models the physical situation, it doesn't have to *always* match physical reality (one doesn't talk about negative distances on a day-to-day basis); remember: [all models are wrong, but some models are useful](https://en.wikipedia.org/wiki/All_models_are_wrong)).  Finding where a function crosses the $x$ axis is also called *[finding the roots of a function](https://en.wikipedia.org/wiki/Zero_of_a_function)* where a *root* in this sense is one value of $x$ where $f(x)$ is equal to zero.\n",
    "\n",
    "Because the function $f(x)$ is a polynomial of degree 2 (its largest exponential is a 2) this is also called a [quadratic equation](https://en.wikipedia.org/wiki/Quadratic_equation).  There is a known equation for the roots of a quadratic equation (the values of $x$ where $f(x) = 0$) which is (confusingly, I find) known as the [quadratic formula](https://en.wikipedia.org/wiki/Quadratic_formula):\n",
    "\n",
    "$$\n",
    "x = \\frac{-b \\pm \\sqrt{b^2 - 4ac}}{2a}\n",
    "$$\n",
    "\n",
    "This formula gives us two values, one of which is where the javelin hits the ground.  Let's call the two values $x_1$ and $x_2$ respectively:\n",
    "\n",
    "$$\n",
    "x_1 = \\frac{-b + \\sqrt{b^2 - 4ac}}{2a}\n",
    "$$\n",
    "\n",
    "and\n",
    "\n",
    "$$\n",
    "x_2 = \\frac{-b - \\sqrt{b^2 - 4ac}}{2a}\n",
    "$$\n",
    "\n",
    "Plugging in our values for $a$, $b$ and $c$, we get:"
   ]
  },
  {
   "cell_type": "code",
   "execution_count": 2,
   "id": "c4e2e11f-09a0-4a1d-ae3a-3bd3741cf382",
   "metadata": {},
   "outputs": [
    {
     "name": "stdout",
     "output_type": "stream",
     "text": [
      "Which gives: x_1 = -1.905 m and x_2 = 40.000 m\n"
     ]
    }
   ],
   "source": [
    "a = -0.02625\n",
    "b = 1\n",
    "c = 2\n",
    "\n",
    "x1 = (-b + np.sqrt(b**2 - 4*a*c))/(2*a)\n",
    "x2 = (-b - np.sqrt(b**2 - 4*a*c))/(2*a)\n",
    "\n",
    "print(f\"Which gives: x_1 = {x1:.3f} m and x_2 = {x2:.3f} m\")"
   ]
  },
  {
   "cell_type": "markdown",
   "id": "801fc352-25bc-42f8-a011-8afd0a38a53f",
   "metadata": {},
   "source": [
    "In other words, the javelin hit the ground after 40m.  The value for $x_1$ is negative which tells us that it's a position *behind*\n",
    "the person throwing the javelin and is thus a solution that we can disregard as not making physical sense because the javelin thrower didn't throw the javelin backwards as well as forwards."
   ]
  },
  {
   "cell_type": "markdown",
   "id": "c95bf0ab-4f48-447f-be13-14ae27f2fdd3",
   "metadata": {},
   "source": [
    "### The German way\n",
    "\n",
    "As promised, here's the way high-school students solve this kind of problem in Germany.  They use what they call the [p-q formula](https://de.wikipedia.org/wiki/Quadratische_Gleichung#L%C3%B6sungsformel_f%C3%BCr_die_Normalform_(p-q-Formel)) which we get by solving the [reduced quadratic equation](https://en.wikipedia.org/wiki/Quadratic_equation#Reduced_quadratic_equation).  Why the *reduced* quadratic equation.  Well, if we can ensure that the factor of the quadratic term (i.e. the $x^2$ term) is 1, then we only need to worry about the factor of the linear term (i.e. the $x$ term) and the constant.  This means we only need to worry about two parameters when calculating the zeros of a quadratic equation instead of having to worry about three parameters.  This might not sound like much of a win, but I guess it helps.  I'll show you want I mean.  Let's take the general form of a quadratic function:\n",
    "\n",
    "$$\n",
    "f(x) = a x^2 + b x + c\n",
    "$$\n",
    "\n",
    "we know that we want to find solutions of this equation when it is equal to zero, i.e.\n",
    "\n",
    "$$\n",
    "a x^2 + b x + c = 0\n",
    "$$\n",
    "\n",
    "so we can simplify things a little bit by dividing both sides of this equation by $a$:\n",
    "\n",
    "$$\n",
    "x^2 + \\frac{b}{a} x + \\frac{c}{a} = 0\n",
    "$$\n",
    "\n",
    "Hrm, those factors of $\\frac{b}{a}$ and $\\frac{c}{a}$ look complicated.  Let's rename them.  Let's set $\\frac{b}{a} =  p$ and $\\frac{c}{a} = q$.  Substituting these values into the equation above we get\n",
    "\n",
    "$$\n",
    "x^2 + p x + q = 0\n",
    "$$\n",
    "\n",
    "which is known as the reduced quadratic equation because we *reduced* the number of parameters from 3 to 2.  The solution to this new form of the quadratic equation is\n",
    "\n",
    "$$\n",
    "x = -\\frac{p}{2} \\pm \\sqrt{\\left(\\frac{p}{2}\\right)^2 - q}\n",
    "$$\n",
    "\n",
    "and this is the famous p-q formula.  This formula is so famous, there's even a [song about it](https://www.youtube.com/watch?v=tRblwTsX6hQ).\n",
    "\n",
    "Let's stop talking about this thing and actually use it.  Remember that the function we've been give is\n",
    "\n",
    "$$\n",
    "f(x) = -0,02625 x^2 + x + 2\n",
    "$$\n",
    "\n",
    "This isn't in a form we can for the p-q formula.  Remember that we want to find the points where this function is equal to zero, hence we can rewrite this as\n",
    "\n",
    "$$\n",
    "-0.02625 x^2 + x + 2 = 0\n",
    "$$\n",
    "\n",
    "We can now divide both sides by -0.02625 to get\n",
    "\n",
    "$$\n",
    "x^2 - \\frac{x}{0.02625} - \\frac{2}{0.02625} = 0\n",
    "$$\n",
    "\n",
    "Now this equation is in the form we need for the p-q formula, where $p = -\\frac{1}{0.02625}$ and $q = -\\frac{2}{0.02625}$.  Plugging these values into the formula we get:"
   ]
  },
  {
   "cell_type": "code",
   "execution_count": 3,
   "id": "8f00051b-21b9-4423-a362-3190f6699144",
   "metadata": {},
   "outputs": [
    {
     "name": "stdout",
     "output_type": "stream",
     "text": [
      "Which gives: x_1 = 40.000 m and x_2 = -1.905 m\n"
     ]
    }
   ],
   "source": [
    "p = -1/0.02625\n",
    "q = -2/0.02625\n",
    "\n",
    "x1 = -p/2 + np.sqrt((p/2)**2 - q)\n",
    "x2 = -p/2 - np.sqrt((p/2)**2 - q)\n",
    "\n",
    "print(f\"Which gives: x_1 = {x1:.3f} m and x_2 = {x2:.3f} m\")"
   ]
  },
  {
   "cell_type": "markdown",
   "id": "d52dfd64-81e0-4988-aca8-0d8a05c04583",
   "metadata": {},
   "source": [
    "In other words, we get the same result as before when using \"the English way\", this time $x_1$ is assigned to the positive value\n",
    "(and hence where the javelin hits the ground) and $x_2$ is assigned to the negative value (the zero of the function behind the javelin thrower).  I don't know if this is an easier or clearer way to do things, but it definitely gives the same result; one just has to remember to divide everything by the factor of the quadratic term (i.e. the $x^2$ bit) before working out what $p$ and $q$ are."
   ]
  },
  {
   "cell_type": "markdown",
   "id": "495d2a5a-05be-4ebe-b2a1-a23dfed9c88a",
   "metadata": {},
   "source": [
    "### Taking the long way round\n",
    "\n",
    "While explaining this problem to a student recently, I kept having the feeling that there was something special about the value 0.02625.  I mean, it seemed like it should be the square of some number or maybe it should have some kind of special form that wasn't obvious from the decimal representation.  Also, this number must be special in some way otherwise the distance the javelin was thrown wouldn't be *exactly* 40m.  Although I couldn't spot anything special during the lesson, it kept bugging me, and after the lesson I worked out what was special *and* I worked out that it wasn't necessary to use a calculator (or Python) in order to work out how far the javelin was thrown.  It turns out that\n",
    "\n",
    "$$\n",
    "0.02625 = \\frac{21}{800}\n",
    "$$\n",
    "\n",
    "Admittedly, I needed to use a computer algebra system such as [Sage](https://www.sagemath.org/) to find the fraction, however once one knows what the fraction is, it's no longer necessary to use a calculator.  Also, did you spot that 800 looks sort of related to 40?  I.e. that it's $20 \\times 40$?  And then that the numerator is close to that factor of 20?  Taken together, these hints gave the feeling that there was a simpler way to do this calculation hiding just under the surface.  In the end, the calculation wasn't that much simpler, but I found it interesting, so let's look at it.\n",
    "\n",
    "Our function now looks like this\n",
    "\n",
    "$$\n",
    "f(x) = -\\frac{21}{800} x^2 + x + 2\n",
    "$$\n",
    "\n",
    "in it's \"fractional form\".\n",
    "\n",
    "The first thing to note is that it won't be any fun writing $\\frac{21}{800}$ all over the place, so let's replace this value by the symbol $d$.  The function is now:\n",
    "\n",
    "$$\n",
    "f(x) = -d x^2 + x + 2\n",
    "$$\n",
    "\n",
    "We want to find when this function is equal to zero, i.e. we want to solve this equation:\n",
    "\n",
    "$$\n",
    "-d x^2 + x + 2 = 0\n",
    "$$\n",
    "\n",
    "We also want this in form required for the p-q formula, so let's now divide both sides by $-d$:\n",
    "\n",
    "$$\n",
    "x^2 - \\frac{x}{d} - \\frac{2}{d} = 0\n",
    "$$\n",
    "\n",
    "Thus we can see that $p = -\\frac{1}{d}$ and $q = -\\frac{2}{d}$.  Plugging these numbers into the p-q formula gives\n",
    "\n",
    "$$\n",
    "x = \\frac{1}{2 d} \\pm \\sqrt{\\left(\\frac{-1}{2 d}\\right)^2 + \\frac{2}{d}}\n",
    "$$\n",
    "\n",
    "Multiplying out the exponent, we get\n",
    "\n",
    "$$\n",
    "x = \\frac{1}{2 d} \\pm \\sqrt{\\frac{1}{4 d^2} + \\frac{2}{d}}\n",
    "$$\n",
    "\n",
    "If you squint at this equation, you might notice that the $4 d^2$ in the denominator under the square root might be able to be factored out and then square rooted, giving a factor of $\\frac{1}{2d}$ in front of the square root which is also the first term of the equation.  Let's do that, because it could help simplify the equation a bit.  First, let's put the two terms under the square root over a common denominator of $4 d^2$ by multiplying the second term ($\\frac{2}{d}$) by $\\frac{4 d}{4 d}$:\n",
    "\n",
    "$$\n",
    "x = \\frac{1}{2 d} \\pm \\sqrt{\\frac{1}{4 d^2} + \\frac{8 d}{4 d^2}}\n",
    "$$\n",
    "\n",
    "This simplifies a bit to:\n",
    "\n",
    "$$\n",
    "x = \\frac{1}{2 d} \\pm \\sqrt{\\frac{1 + 8 d}{4 d^2}}\n",
    "$$\n",
    "\n",
    "we can now write this as\n",
    "\n",
    "$$\n",
    "x = \\frac{1}{2 d} \\pm \\frac{\\sqrt{1 + 8 d}}{\\sqrt{4 d^2}}\n",
    "$$\n",
    "\n",
    "As you can see $\\sqrt{4 d^2} =  2d$, hence\n",
    "\n",
    "$$\n",
    "x = \\frac{1}{2 d} \\pm \\frac{\\sqrt{1 + 8 d}}{2 d}\n",
    "$$\n",
    "\n",
    "Extracting the factor of $\\frac{1}{2d}$, we get\n",
    "\n",
    "$$\n",
    "x = \\frac{1}{2 d} \\left(1 \\pm \\sqrt{1 + 8 d}\\right)\n",
    "$$\n",
    "\n",
    "That looks a bit easier to handle.  Let's now substitute in our value for $d = \\frac{21}{800}$:\n",
    "\n",
    "$$\n",
    "x = \\frac{800}{42} \\left(1 \\pm \\sqrt{1 + \\frac{8 \\times 21}{800}}\\right)\n",
    "$$\n",
    "\n",
    "We can get rid of at least a factor of 8 within the square root to simplify things a bit\n",
    "\n",
    "$$\n",
    "x = \\frac{800}{42} \\left(1 \\pm \\sqrt{1 + \\frac{21}{100}}\\right)\n",
    "$$\n",
    "\n",
    "Putting the terms under the square root over a common denominator, we get\n",
    "\n",
    "$$\n",
    "x = \\frac{800}{42} \\left(1 \\pm \\sqrt{\\frac{100 + 21}{100}}\\right)\n",
    "$$\n",
    "\n",
    "which is\n",
    "\n",
    "$$\n",
    "x = \\frac{800}{42} \\left(1 \\pm \\sqrt{\\frac{121}{100}}\\right)\n",
    "$$\n",
    "\n",
    "The square root of 100 is 10, so we can extract a factor of $\\frac{1}{10}$ from the square root\n",
    "\n",
    "$$\n",
    "x = \\frac{800}{42} \\left(1 \\pm \\frac{1}{10} \\sqrt{121}\\right)\n",
    "$$\n",
    "\n",
    "Hrm, $\\sqrt{121}$ looks strangely familiar.  Hey, it's just 11 ($11 \\times 11 = 121$).  That's cool!  We can get rid of that square root now:\n",
    "\n",
    "$$\n",
    "x = \\frac{800}{42} \\left(1 \\pm \\frac{11}{10}\\right)\n",
    "$$\n",
    "\n",
    "Using a common denominator again, we have\n",
    "\n",
    "$$\n",
    "x = \\frac{800}{42} \\left(\\frac{10 \\pm 11}{10}\\right)\n",
    "$$\n",
    "\n",
    "Cancelling out the factor of 10, we get\n",
    "\n",
    "$$\n",
    "x = \\frac{80}{42} \\left(10 \\pm 11\\right)\n",
    "$$\n",
    "\n",
    "The javelin will have been thrown to the larger of the two solutions, in other words we can take the $+$ part of the $\\pm$\n",
    "\n",
    "$$\n",
    "x = \\frac{80}{42} \\left(10 + 11\\right)\n",
    "$$\n",
    "\n",
    "which is\n",
    "\n",
    "$$\n",
    "x = \\frac{80}{42} \\times 21\n",
    "$$\n",
    "\n",
    "We now see that 42 is twice 21, so this reduces to\n",
    "\n",
    "$$\n",
    "x = \\frac{80}{2}\n",
    "$$\n",
    "\n",
    "which is\n",
    "\n",
    "$$\n",
    "x = 40\n",
    "$$\n",
    "\n",
    "In other words, the javelin hit the ground after 40m.  Finally!  We managed to work out what the value was without a calculator!  Ok, so that was a lot of work, but it was somehow satisfying that it wasn't necessary to use a machine to work the answer."
   ]
  },
  {
   "cell_type": "markdown",
   "id": "8b3d69e5-8954-44d0-ad78-3950154bb8ad",
   "metadata": {},
   "source": [
    "## Determining the highest point of the javelin's path (method 1)\n",
    "\n",
    "If we look at the plot of the function from above, we can see that when the javelin reaches its highest point, that the slope of its path is completely flat.  Up to that point the slope of the javelin's path is pointing upwards and after the highest point the slope of the javelin's path is pointing downwards.  The slope of a curve at a given point is given by its [tangent](https://en.wikipedia.org/wiki/Tangent).  The tangent to a curve at a given point (and hence the curve's slope at that point) can be determined by taking the [derivative](https://en.wikipedia.org/wiki/Derivative) of the function at that point.  For our function $f(x)$, we can take its derivative and thus find the function's slope at any given point $x$ along its path.  You will often see the derivative of a function written as $f'(x)$ or as $\\frac{df}{dx}$; they mean the same thing.  To take the derivative of a power such as $x^n$, simply take the value $n$ and multiply it by the power reduced by 1, i.e. the derivative of $x^n$ is $n x^{n-1}$.  We can apply this rule to our function $f(x)$ term-by-term in the expression.  Therefore the derivative of\n",
    "\n",
    "$$\n",
    "f(x) = ax^2 + bx + c\n",
    "$$\n",
    "\n",
    "is\n",
    "\n",
    "$$\n",
    "f'(x) = 2ax + b\n",
    "$$\n",
    "\n",
    "where we have used the fact that taking the derivative of a constant is zero (because its value doesn't change as we change the value of $x$).\n",
    "\n",
    "Since we know that the tangent to the function is completely flat at the highest point of the javelin's path, we can say that the slope at this point is zero and hence we just need to find the value of $x$ where the derivative is equal to zero.  I.e. we need to solve this equation for $x$:\n",
    "\n",
    "$$\n",
    "f'(x) = 0 = 2ax + b\n",
    "$$\n",
    "\n",
    "Subtracting $b$ from both sides of the equation we get\n",
    "\n",
    "$$\n",
    "-b = 2ax\n",
    "$$\n",
    "\n",
    "and dividing both sides of the equation by $2a$ we find the value of $x$ when the javelin is at its highest point:\n",
    "\n",
    "$$\n",
    "x = \\frac{-b}{2a}\n",
    "$$\n",
    "\n",
    "Plugging in the values for $a$ and $b$ we get:"
   ]
  },
  {
   "cell_type": "code",
   "execution_count": 4,
   "id": "28ab019f-d02b-4735-9d73-12ae26700ec1",
   "metadata": {},
   "outputs": [
    {
     "name": "stdout",
     "output_type": "stream",
     "text": [
      "which is 19.048 m\n"
     ]
    }
   ],
   "source": [
    "a = -0.02625\n",
    "b = 1\n",
    "\n",
    "x = -b/(2*a)\n",
    "\n",
    "print(f\"which is {x:.3f} m\")"
   ]
  },
  {
   "cell_type": "markdown",
   "id": "439ba733-79ed-46dd-8257-b6b67d1f921d",
   "metadata": {},
   "source": [
    "Does this value make sense?  It certainly looks like the highest point is at a horizontal distance slightly less than 20m from the plot of the function we made above, so that's a good indicator that this value does make sense.  We found that the javelin hit the ground 40m after having been thrown so it makes sense that the horizontal distance corresponding to the highest point would be at approximately 20m (because a parabola is symmetric across its maximum (or minimum if it is convex)), but the value should be a little bit smaller than 20m because the javelin was thrown not from a height of 0m above the ground but at a height of 2m above the ground.  In other words, yes, this value does make sense."
   ]
  },
  {
   "cell_type": "markdown",
   "id": "7eb585c6-1bff-4840-b913-6eb76fed88b1",
   "metadata": {},
   "source": [
    "To work out the height of the highest point of the javelin's path, we simply plug the value we got for the hozizontal distance travelled from where the javelin was thrown into the function.  I.e., we substitute 19.048 for $x$ into the function we're initially given.\n",
    "\n",
    "$$\n",
    "f(19.048) = -0.02625 \\cdot 19.048^2 + 19.048 + 2\n",
    "$$"
   ]
  },
  {
   "cell_type": "code",
   "execution_count": 5,
   "id": "c4d56966-33bb-4819-aa92-de947d04845a",
   "metadata": {},
   "outputs": [
    {
     "name": "stdout",
     "output_type": "stream",
     "text": [
      "which is 11.433 m.\n"
     ]
    }
   ],
   "source": [
    "print(f\"which is {-0.0265*19.048**2 + 19.048 + 2:.3f} m.\")"
   ]
  },
  {
   "cell_type": "markdown",
   "id": "3e700a6c-eea2-4ce6-906e-719ddfac7d2c",
   "metadata": {},
   "source": [
    "## Determining the highest point of the javelin's path (method 2)\n",
    "\n",
    "Another way of working out at which horizontal distance the highest point of the javelin's path is (thus allowing us to calculate the highest point of the javelin's path), is to realise that a parabola is symmetric along the $x$ axis: half of the function lies on one side of the highest point and the other half of the function is on the other side of the highest point.  We can use this property as well as the roots of the equation that we calculated earlier to work out where the highest point of the javelin's trajectory is (and now we see that it actually *was* helpful to calculate the root of the equation behind the thrower).\n",
    "\n",
    "The highest point of the javelin's path will be half way between the two roots."
   ]
  },
  {
   "cell_type": "code",
   "execution_count": 6,
   "id": "9b8f3168-b740-4951-a5f4-9f74f364bac0",
   "metadata": {
    "user_expressions": [
     {
      "expression": "x2 - x1",
      "result": {
       "data": {
        "text/plain": "41.904761904761905"
       },
       "metadata": {},
       "status": "ok"
      }
     },
     {
      "expression": "(x2 - x1)/2 + x1",
      "result": {
       "data": {
        "text/plain": "19.047619047619047"
       },
       "metadata": {},
       "status": "ok"
      }
     },
     {
      "expression": "x2 - (x2 - x1)/2",
      "result": {
       "data": {
        "text/plain": "19.047619047619047"
       },
       "metadata": {},
       "status": "ok"
      }
     }
    ]
   },
   "outputs": [
    {
     "name": "stdout",
     "output_type": "stream",
     "text": [
      "The distance between the two roots is: x₂ - x₁ = -41.905 m.\n"
     ]
    }
   ],
   "source": [
    "print(f\"The distance between the two roots is: x₂ - x₁ = {x2 - x1:.3f} m.\")"
   ]
  },
  {
   "cell_type": "markdown",
   "id": "907c21be-1660-4970-82f7-9de817f7ad36",
   "metadata": {},
   "source": [
    "The location of the highest point will be half of the distance between the two roots plus the position of the point behind the thrower (or equivalently the position where the javelin hits the ground minus half the distance between the two roots).  I.e.:\n",
    "\n",
    "$$\n",
    "\\mathrm{highest\\ point} = x_1 + \\frac{x_2 - x_1}{2}\n",
    "$$\n",
    "\n",
    "In other words, we start at $x_1$ and move forward half of the distance between the two zeros of the function,"
   ]
  },
  {
   "cell_type": "code",
   "execution_count": 7,
   "id": "37f1b488-1fbe-4e98-9685-19087e99703f",
   "metadata": {
    "user_expressions": [
     {
      "expression": "x2 - x1",
      "result": {
       "data": {
        "text/plain": "41.904761904761905"
       },
       "metadata": {},
       "status": "ok"
      }
     },
     {
      "expression": "(x2 - x1)/2 + x1",
      "result": {
       "data": {
        "text/plain": "19.047619047619047"
       },
       "metadata": {},
       "status": "ok"
      }
     },
     {
      "expression": "x2 - (x2 - x1)/2",
      "result": {
       "data": {
        "text/plain": "19.047619047619047"
       },
       "metadata": {},
       "status": "ok"
      }
     }
    ]
   },
   "outputs": [
    {
     "name": "stdout",
     "output_type": "stream",
     "text": [
      "which is 19.048 m\n"
     ]
    }
   ],
   "source": [
    "print(f\"which is {(x2 - x1)/2 + x1:.3f} m\")"
   ]
  },
  {
   "cell_type": "markdown",
   "id": "ccbc224c-3fde-44e1-836e-073a7d559a18",
   "metadata": {},
   "source": [
    "which matches the value we got by using the previous method.  Again, since this is the value of $x$ at the highest point of the javelin's path, we just need to plug this value into our function.\n",
    "\n",
    "$$\n",
    "f(19.048) = -0.02625 \\cdot 19.048^2 + 19.048 + 2\n",
    "$$"
   ]
  },
  {
   "cell_type": "code",
   "execution_count": 8,
   "id": "e70342da-c02b-45df-bc64-7c735db5d1bb",
   "metadata": {},
   "outputs": [
    {
     "name": "stdout",
     "output_type": "stream",
     "text": [
      "which is 11.433 m.\n"
     ]
    }
   ],
   "source": [
    "print(f\"which is {-0.0265*19.048**2 + 19.048 + 2:.3f} m.\")"
   ]
  },
  {
   "cell_type": "markdown",
   "id": "7681f68f-eb4f-4f48-8202-0347238e3d86",
   "metadata": {},
   "source": [
    "If we use the point where the javelin hits the ground, we get the same result:\n",
    "\n",
    "$$\n",
    "\\mathrm{highest\\ point} = x_2 - \\frac{x_2 - x_1}{2}\n",
    "$$\n",
    "\n",
    "where we start at the point $x_2$ and move *backwards* half of the distance between the two zeros of the function,"
   ]
  },
  {
   "cell_type": "code",
   "execution_count": 9,
   "id": "0c54d018-cc4f-4579-8125-411be4b1ed50",
   "metadata": {
    "user_expressions": [
     {
      "expression": "x2 - x1",
      "result": {
       "data": {
        "text/plain": "41.904761904761905"
       },
       "metadata": {},
       "status": "ok"
      }
     },
     {
      "expression": "(x2 - x1)/2 + x1",
      "result": {
       "data": {
        "text/plain": "19.047619047619047"
       },
       "metadata": {},
       "status": "ok"
      }
     },
     {
      "expression": "x2 - (x2 - x1)/2",
      "result": {
       "data": {
        "text/plain": "19.047619047619047"
       },
       "metadata": {},
       "status": "ok"
      }
     }
    ]
   },
   "outputs": [
    {
     "name": "stdout",
     "output_type": "stream",
     "text": [
      "which is 19.048 m\n"
     ]
    }
   ],
   "source": [
    "print(f\"which is {x2 - (x2 - x1)/2:.3f} m\")"
   ]
  },
  {
   "cell_type": "markdown",
   "id": "23223f69-be44-4959-ba39-0e4d1e4530b5",
   "metadata": {},
   "source": [
    "and equals the two other results for this value that we computed previously.  Fairly obviously, if we then plug this value into the function, we get the highest height the javelin reaches, i.e. 11.433 m."
   ]
  },
  {
   "cell_type": "markdown",
   "id": "b549c0cc-ee0e-401d-9b88-2d12b6fe1662",
   "metadata": {},
   "source": [
    "## Determining the distance and highest point when the path is described by $f(x)=−0.03x^2+x+2$\n",
    "\n",
    "We're now being asked a very similar question to that which we already have an answer.  Because of this similarity, it makes sense to compare the two functions with one another:\n",
    "\n",
    "$$\n",
    "f_1(x) = -0.0265 x^2 + x + 2\\\\\n",
    "f_2(x) = -0.03 x^2 + x + 2\n",
    "$$\n",
    "\n",
    "where we've labelled the functions according to the order in which they were presented to us in the question.\n",
    "\n",
    "We note immediately that there's only one difference between the two functions: the $a$ coefficient is a more negative value in $f_2(x)$.  What does this tell us about the values the function will take?  Because the component with the highest exponent has a more negative coefficient, we would expect the height to be lower than in the initial example and the distance to be less than in the initial example.  Why?  Well, the more negative value will \"put pressure\" on the function to come down sooner than in the initial example we investigated.  Let's plot the function to see if our intuition is correct."
   ]
  },
  {
   "cell_type": "code",
   "execution_count": 10,
   "id": "b0a5dd3b-a9eb-4e0d-9638-1a75caa7c20a",
   "metadata": {},
   "outputs": [
    {
     "data": {
      "image/png": "[encoded data removed]",
      "text/plain": [
       "<Figure size 640x480 with 1 Axes>"
      ]
     },
     "metadata": {},
     "output_type": "display_data"
    }
   ],
   "source": [
    "# we've already imported the numerical and plotting libraries earlier, hence we don't need to do this again\n",
    "\n",
    "# we've also defined the function to plot in a general way earlier;\n",
    "# we just need to specify the \"a\" value when generating the list of \"fs\" this time\n",
    "\n",
    "# define a shorter list of x points from 0 to 40 metres in steps of 0.1m\n",
    "xs = np.arange(0, 40, 0.1)\n",
    "# determine the values on the y-axis from the function f(x) with the updated \"a\" value\n",
    "fs = [f(x, a=-0.03) for x in xs]\n",
    "\n",
    "fig, ax = plt.subplots()  # set up the plot\n",
    "# set the axes labels and plot title\n",
    "ax.set_xlabel('$x$ (m)')\n",
    "ax.set_ylabel('$f_2(x)$ (m)')\n",
    "ax.set_title('A second javelin throw')\n",
    "# plot the data\n",
    "ax.plot(xs, fs)\n",
    "# add a grid to the plot to more easily see the function's values\n",
    "plt.grid()\n",
    "# show the plot\n",
    "plt.show()"
   ]
  },
  {
   "cell_type": "markdown",
   "id": "e2b2fb95-45a4-414d-9c4f-602ac1811736",
   "metadata": {},
   "source": [
    "This result matches our intuition: the distance thrown seems to be approximately 35m this time and the highest point looks to be approximately 17m.\n",
    "\n",
    "Let's work out the distance travelled using both the \"English\" and \"German\" ways."
   ]
  },
  {
   "cell_type": "markdown",
   "id": "33659007-0d51-4573-88ad-8f86cfb6ade7",
   "metadata": {},
   "source": [
    "### Finding the distance the \"English\" way\n",
    "\n",
    "Using the quadratic formula again to work out at which $x$ values $f_2(x)$ is zero, we have:\n",
    "\n",
    "$$\n",
    "x = \\frac{-b \\pm \\sqrt{b^2 - 4ac}}{2a}\n",
    "$$"
   ]
  },
  {
   "cell_type": "code",
   "execution_count": 11,
   "id": "7a1cf685-7827-45fc-a863-24b761b0710b",
   "metadata": {},
   "outputs": [
    {
     "name": "stdout",
     "output_type": "stream",
     "text": [
      "Which gives: x₁ = -1.893 m and x₂ = 35.226 m.\n"
     ]
    }
   ],
   "source": [
    "a2 = -0.03\n",
    "b = 1\n",
    "c = 2\n",
    "\n",
    "x1_new = (-b + np.sqrt(b**2 - 4*a2*c))/(2*a2)\n",
    "x2_new = (-b - np.sqrt(b**2 - 4*a2*c))/(2*a2)\n",
    "\n",
    "print(f\"Which gives: x₁ = {x1_new:.3f} m and x₂ = {x2_new:.3f} m.\")"
   ]
  },
  {
   "cell_type": "markdown",
   "id": "a7f2fc75-becf-40e4-aa82-31ae223106b1",
   "metadata": {},
   "source": [
    "In other words, the javelin hit the ground after 35.226 m.  Again, the value for $x_{1new}$ is negative which tells us that it's a position *behind* the person throwing the javelin and is thus a solution that we can disregard as not making physical sense."
   ]
  },
  {
   "cell_type": "markdown",
   "id": "9f95451b-98dc-4c01-97df-379e6e249848",
   "metadata": {},
   "source": [
    "### Finding the distance the \"German\" way\n",
    "\n",
    "To be able to use the p-q formula, we need to take $f_2(x)$ and consider that we're finding the $x$ values when the function is equal to 0.  In other words, we need to solve this equation\n",
    "\n",
    "$$\n",
    "-0.03 x^2 + x + 2 = 0\n",
    "$$\n",
    "\n",
    "Now we need to divide both sides of the equation by -0.03, which gives\n",
    "\n",
    "$$\n",
    "x^2 - \\frac{x}{0.03} - \\frac{2}{0.03} = 0\n",
    "$$\n",
    "\n",
    "thus we can see that our values for p and q are: $p = -\\frac{1}{0.03}$ and $q = -\\frac{2}{0.03}$.  Remember that the p-q formula is\n",
    "\n",
    "$$\n",
    "x = -\\frac{p}{2} \\pm \\sqrt{\\left(\\frac{p}{2}\\right)^2 - q}\n",
    "$$\n",
    "\n",
    "We can now just plug in the values for $p$ and $q$ to find the two roots of $f_2(x)$:"
   ]
  },
  {
   "cell_type": "code",
   "execution_count": 12,
   "id": "2939409d-3d8d-4733-b282-52e47de6eb88",
   "metadata": {},
   "outputs": [
    {
     "name": "stdout",
     "output_type": "stream",
     "text": [
      "Which gives: x_1 = 35.226 m and x_2 = -1.893 m\n"
     ]
    }
   ],
   "source": [
    "p = -1/0.03\n",
    "q = -2/0.03\n",
    "\n",
    "x1 = -p/2 + np.sqrt((p/2)**2 - q)\n",
    "x2 = -p/2 - np.sqrt((p/2)**2 - q)\n",
    "\n",
    "print(f\"Which gives: x_1 = {x1:.3f} m and x_2 = {x2:.3f} m\")"
   ]
  },
  {
   "cell_type": "markdown",
   "id": "e9703756-5365-4b7e-a511-756f422d32d0",
   "metadata": {},
   "source": [
    "### The highest point\n",
    "\n",
    "The highest point can again be found by taking the derivative of the general form of the function and plugging in the values for $a$ and $b$:\n",
    "\n",
    "$$\n",
    "x_{new} = \\frac{-b}{2a_2}\n",
    "$$"
   ]
  },
  {
   "cell_type": "code",
   "execution_count": 13,
   "id": "bc1385fc-9ff7-4509-867f-5e17a829f8b6",
   "metadata": {
    "user_expressions": [
     {
      "expression": "x1",
      "result": {
       "data": {
        "text/plain": "-1.892547876100074"
       },
       "metadata": {},
       "status": "ok"
      }
     },
     {
      "expression": "x2",
      "result": {
       "data": {
        "text/plain": "35.22588120943341"
       },
       "metadata": {},
       "status": "ok"
      }
     },
     {
      "expression": "x2",
      "result": {
       "data": {
        "text/plain": "35.22588120943341"
       },
       "metadata": {},
       "status": "ok"
      }
     }
    ]
   },
   "outputs": [
    {
     "name": "stdout",
     "output_type": "stream",
     "text": [
      "which is 16.667 m\n"
     ]
    }
   ],
   "source": [
    "a2 = -0.03\n",
    "b = 1\n",
    "\n",
    "x_new = -b/(2*a2)\n",
    "\n",
    "print(f\"which is {x_new:.3f} m\")"
   ]
  },
  {
   "cell_type": "markdown",
   "id": "72967a0c-b930-4be9-8ef1-6f4197bb6dbc",
   "metadata": {},
   "source": [
    "and which is close to the value we guessed from looking at the plotted the curve above and is less than the $\\approx 19.05$m we got from the first example,\n",
    "thus also matching our intuition we formulated at the start of this section.  This horizontal distance corresponds to the where the javelin is at its highest point, thus we substitute this value for $x$ in\n",
    "\n",
    "$$\n",
    "f_2(x) = -0.03 x^2 + x + 2\n",
    "$$\n",
    "\n",
    "which is\n",
    "\n",
    "$$\n",
    "f_2(16.667) = -0.03 \\cdot 16.667^2 + 16.667 + 2\n",
    "$$"
   ]
  },
  {
   "cell_type": "code",
   "execution_count": 14,
   "id": "3e275cb3-34f9-44b6-b561-0b1bca293a49",
   "metadata": {},
   "outputs": [
    {
     "name": "stdout",
     "output_type": "stream",
     "text": [
      "which is 10.333 m.\n"
     ]
    }
   ],
   "source": [
    "print(f\"which is {-0.03*16.667**2 + 16.667 + 2:.3f} m.\")"
   ]
  },
  {
   "cell_type": "markdown",
   "id": "2b06b214-00ad-4cd2-bd93-292c187d7784",
   "metadata": {},
   "source": [
    "This means that the javelin was thrown just a bit lower than the javelin in the initial part of the question.\n",
    "This value matches the value one could read off the plot above of the second javelin throw and thus we can be confident that our calculated value is correct."
   ]
  },
  {
   "cell_type": "markdown",
   "id": "559d4152-0b4b-4b40-8b6f-64fc127fbb61",
   "metadata": {},
   "source": [
    "## Summing up\n",
    "\n",
    "You might be thinking that this was really long-winded.  Why go into all the detail?  Why include the purely algebraic way of solving the first part of this exercise?  Well, this *is* a deep dive into the question.  The entire point here is to really dig into the details and provide so much information (and link to any other useful articles) that anyone can reconstruct (and hopefully understand) how we get to the answer.  I've found personally that missing steps can often cause students to stumble over a problem and hence not be able to solve it.  By providing all of the steps and the thinking behind the solution the idea is that any stumbling blocks will have been removed.  Also, the hope is that a couple of lights might have gone off for any students who had not understood the problem before.  Happy problem solving!"
   ]
  }
 ],
 "metadata": {
  "kernelspec": {
   "display_name": "Python 3 (ipykernel)",
   "language": "python",
   "name": "python3"
  },
  "language_info": {
   "codemirror_mode": {
    "name": "ipython",
    "version": 3
   },
   "file_extension": ".py",
   "mimetype": "text/x-python",
   "name": "python",
   "nbconvert_exporter": "python",
   "pygments_lexer": "ipython3",
   "version": "3.9.2"
  }
 },
 "nbformat": 4,
 "nbformat_minor": 5
}
