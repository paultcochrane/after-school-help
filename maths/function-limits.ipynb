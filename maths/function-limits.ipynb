{
 "cells": [
  {
   "cell_type": "markdown",
   "id": "cd05c848-c0bd-422a-8573-2b66eb0b7da0",
   "metadata": {},
   "source": [
    "# Function limits exercises\n",
    "\n",
    "These exercises are taken from [Paul's Online Notes Section 2.5 : Computing Limits](https://tutorial.math.lamar.edu/Problems/CalcI/ComputingLimits.aspx).\n",
    "\n",
    "## Problem 6\n",
    "\n",
    "Evaluate $\\lim\\limits_{h \\to 0} \\frac{(6+h)^2 - 36}{h}$ if it exists."
   ]
  },
  {
   "cell_type": "markdown",
   "id": "de9af896-0740-4640-85c1-98997b5479ac",
   "metadata": {},
   "source": [
    "## Solution to Problem 6\n",
    "\n",
    "Let's start investigating the function a bit first.  We can write the function like this (without the limit):\n",
    "\n",
    "$$\n",
    "f(h) = \\frac{(6+h)^2 - 36}{h}\n",
    "$$\n",
    "\n",
    "We can see that if we simply plug $h=0$ into the equation, we'll have zero in the denominator, hence the function can't be defined at $h=0$ (this is one reason why we use a limit to work out the function's value as $h$ approaches zero).  So what can we find out about the function in order to get a feeling for what value the function approaches as $h$ approaches zero?  Well, we can start plugging values of $h$ into the function to see what value we get for smaller and smaller values of $h$.  Let's do that now by defining the function in a way so that we can use the computer to calculate the value of $h$ for us:"
   ]
  },
  {
   "cell_type": "code",
   "execution_count": null,
   "id": "f2489964-f48e-4071-92ce-c69f9e15c276",
   "metadata": {},
   "outputs": [],
   "source": [
    "h = var('h')  # define the variable 'h'\n",
    "f(h) = ((6+h)^2 - 36)/h  # define the function for which we want to evaluate its limit"
   ]
  },
  {
   "cell_type": "markdown",
   "id": "e3cae90e-9061-4295-ac65-61ff5c130914",
   "metadata": {},
   "source": [
    "Now we've defined a function, we can start plugging values of $h$ into it, to see what numbers we get back out. Below we evaluate the function for the values 2, 1, 0.5, 0.2, 0.1, 0.01, 0.001, and 0.0001."
   ]
  },
  {
   "cell_type": "code",
   "execution_count": null,
   "id": "e322b97c-a658-4bde-b4b8-2d3f91ac6877",
   "metadata": {},
   "outputs": [],
   "source": [
    "[f(h) for h in [2, 1, 0.5, 0.2, 0.1, 0.01, 0.001, 0.0001]]"
   ]
  },
  {
   "cell_type": "markdown",
   "id": "f94e9186-cfc7-49da-af7b-dd862df857e9",
   "metadata": {},
   "source": [
    "From this sequence of values it looks like the function approaches the value 12 as $h$ approaches 0.\n",
    "\n",
    "We can also see this progression graphically by plotting the function values for various values of $h$ from 0.000001 to 2 and then \"reading\" the plot from right to left to see how the function behaves as $h$ approaches zero."
   ]
  },
  {
   "cell_type": "code",
   "execution_count": null,
   "id": "a7e0d005-254c-4da5-95af-6ddb9192f22f",
   "metadata": {},
   "outputs": [],
   "source": [
    "plot(f, (h, 0.000001, 2), axes_labels=['$h$', '$f(h)$'])"
   ]
  },
  {
   "cell_type": "markdown",
   "id": "eb542e5d-1449-4ce2-9ede-b5f57a2ab460",
   "metadata": {},
   "source": [
    "By reading the function from right to left (i.e. decreasing values of $h$), we can see that the function $f(h)$ seems to be approaching the value 12 as $h$ approaches zero.\n",
    "\n",
    "OK. We're now fairly certain that we know the answer, but how can we be really, *really* certain?\n",
    "\n",
    "To do this we can investigate the function algebraically.  We start with:\n",
    "\n",
    "$$\n",
    "f(h) = \\frac{(6+h)^2 - 36}{h}\n",
    "$$\n",
    "\n",
    "What can we do now?  Let's rewrite the exponent as a multiplication:\n",
    "\n",
    "$$\n",
    "f(h) = \\frac{(6+h)(6+h) - 36}{h}\n",
    "$$\n",
    "\n",
    "Now we can expand the brackets of the multiplication in the numerator, which gives us:\n",
    "\n",
    "$$\n",
    "f(h) = \\frac{36 + 6h + 6h + h^2 - 36}{h}\n",
    "$$\n",
    "\n",
    "Note that the pure numbers cancel (i.e. $36 - 36 = 0$) and we can collect the terms in $h$ together, i.e. $6h + 6h = 12$, thus we have now:\n",
    "\n",
    "$$\n",
    "f(h) = \\frac{12h + h^2}{h}\n",
    "$$\n",
    "\n",
    "We can now extract the common factor of $h$ in the numerator:\n",
    "\n",
    "$$\n",
    "f(h) = \\frac{(12 + h)h}{h}\n",
    "$$\n",
    "\n",
    "Now we can see that the $h$ from the denominator cancels the $h$ from the numerator giving us:\n",
    "\n",
    "$$\n",
    "f(h) = 12 + h\n",
    "$$\n",
    "\n",
    "Now if we let $h$ tend to zero (in fact, we could cheat and just set $h=0$ without causing any nasty divide-by-zero problems), we can rather clearly see that the only remaining term is the number 12 and hence\n",
    "\n",
    "$$\n",
    "\\lim\\limits_{h \\to 0} \\frac{(6+h)^2 - 36}{h} = 12\n",
    "$$"
   ]
  },
  {
   "cell_type": "code",
   "execution_count": null,
   "id": "6f75d64a-97ba-4bcd-93bc-9cefac341f61",
   "metadata": {},
   "outputs": [],
   "source": []
  }
 ],
 "metadata": {
  "kernelspec": {
   "display_name": "SageMath 9.2",
   "language": "sage",
   "name": "sagemath"
  },
  "language_info": {
   "codemirror_mode": {
    "name": "ipython",
    "version": 3
   },
   "file_extension": ".py",
   "mimetype": "text/x-python",
   "name": "python",
   "nbconvert_exporter": "python",
   "pygments_lexer": "ipython3",
   "version": "3.9.2"
  }
 },
 "nbformat": 4,
 "nbformat_minor": 5
}
