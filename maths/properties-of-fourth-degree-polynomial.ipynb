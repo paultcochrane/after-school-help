{
 "cells": [
  {
   "cell_type": "markdown",
   "id": "e2e56b2f-e0eb-401a-9d55-eca7f249487a",
   "metadata": {},
   "source": [
    "# Finding various properties of a 4th degree polynomial equation\n",
    "\n",
    "Consider the function $f(x) = x^4 - 4 x^3 - 8 x^2 + 33 x - 18$. Find\n",
    "\n",
    "  - (a) the roots of the equation\n",
    "  - (b) its extrema, and\n",
    "  - (c) its inflection points."
   ]
  },
  {
   "cell_type": "markdown",
   "id": "405243a7-63aa-4c09-824b-f4513c8e29c2",
   "metadata": {},
   "source": [
    "## Finding the roots by hand\n",
    "\n",
    "To find the [roots](https://en.wikipedia.org/wiki/Zero_of_a_function) (also known as the *zeros of a function*), we need to use the [rational root theorem](https://en.wikipedia.org/wiki/Rational_root_theorem) to give us a hint as to what possible solutions might exist so that we can try them out and thus factorise the initial function piece-by-piece.\n",
    "\n",
    "The rational root theorem basically says to take the last term in the polynomial, work out what its factors are and then divide these each by the factors of the first term in the polynomial respectively.  This will then give a list of possible rational factors which can be either positive or negative.  Depending upon what the first and last terms of a polynomial are, this could be a long list (just so you know).\n",
    "\n",
    "In the function we're considering here, the last term is 18 (we can ignore the minus sign because we're going to be taking plus/minus of its factors anyway) and the factor of the first term is 1 (we can think of $x^4$ as $1 \\cdot x^4$, hence the factor of $x^4$ is 1).  The factors of the last term are 1, 2, 3, 6, 9 and 18 (because $1 \\cdot 18 = 18$, $2 \\cdot 9 = 18$ and $3 \\cdot 6 = 18$).  The only factor of the first term is 1, hence dividing each of the factors of the last term by the factors of the first term we get this list: 1/1, 2/1, 3/1, 6/1, 9/1 and 18/1, which is simply the list of factors of the last term: 1, 2, 3, 6, 9 and 18.  The possible rational roots of the function $f(x)$ (according to the rational root theorem) are: $\\pm 1$, $\\pm 2$, $\\pm 3$, $\\pm 6$, $\\pm 9$ and $\\pm 18$.  What does this tell us?  Well, it gives us possible roots of $f(x)$; we can check if they actually are roots of $f(x)$ by using [polynomial long division](https://en.wikipedia.org/wiki/Polynomial_long_division).\n",
    "\n",
    "Let's assume that one root of $f(x)$ is 1 (this value is one of our possible rational roots).  If this *is* a root, then $x - 1$ is a factor of $f(x)$ and hence $x - 1$ will divide $f(x)$ cleanly (i.e. leaving no remainder).  The only way to work this out (by hand) is to run through the long division, hence we try this now:\n",
    "\n",
    "![x-1](x-1-in-x4-long-division.png)\n",
    "\n",
    "This has a non-zero remainder of 26 and thus we can say that $x - 1$ *isn't* a factor of $f(x)$.\n",
    "\n",
    "What should we do now?  Let's try another of our possible roots, this time we'll find out if 2 is a root of $f(x)$ by checking if $x - 2$ is a factor of $f(x)$.  Again, we check if the divisor (in this case $x - 2$) divides $f(x)$ cleanly, i.e. the remainder is 0.  If this is the case, then we know that $x - 2$ is a linear factor of $f(x)$ and we know that 2 is a root of $f(x)$.  Let's check this now by using long division:\n",
    "\n",
    "![x-2](x-2-in-x4-long-division.png)\n",
    "\n",
    "Ok, that gives a remainder of zero, great!  That means that $x - 2$ is a factor of $f(x)$ (we can also say that $x - 2$ *factorises* $f(x)$) and from the long division, we know that the other factor is now $x^3 - 2x^2 - 12x + 9$.  In other words, we can now write $f(x)$ like so:\n",
    "\n",
    "$$\n",
    "\\begin{align}\n",
    "f(x) &= x^4 - 4 x^3 - 8 x^2 + 33 x - 18\\\\\n",
    "&= (x - 2)(x^3 - 2x^2 - 12x + 9)\n",
    "\\end{align}\n",
    "$$\n",
    "\n",
    "We've just managed to simplify finding the root factors of $f(x)$ because we now only need to find the factors of a cubic function and no longer do we have to do long division on a 4th order polynomial.  Let's call the cubic function from above $g(x)$ so that it's easier to refer to it.\n",
    "\n",
    "$$\n",
    "g(x) = x^3 - 2x^2 - 12x + 9\n",
    "$$\n",
    "\n",
    "We can use the rational root theorem again to work out what possible roots the cubic function will have.  Note that because $g(x)$ is a factor of $f(x)$, its roots will also be roots of $f(x)$.  Again, we need factors for the first and last terms of the function, in this case the factor of the first term is 1 and the factor of the last term is 9.  Thus (according to the rational root theorem), we have the following list of possible roots: $\\pm 1$, $\\pm 3$ and $\\pm 9$.  Note that this list is much shorter than the list we found for $f(x)$, hence we've got (potentially) much less work to do.  So, which potential root do we check first?  I think that checking 1 again first is probably not going to help because we already tried it earlier and it didn't work.  Let's try the next factor in the list: 3.  Therefore we will divide $g(x)$ by $x - 3$ and see if it divides cleanly (gives a remainder of 0).  If so, we've found another root and can move on; if not, we'll have to try another root and see if that works.  Dividing $g(x)$ by $x - 3$ via long division gives:\n",
    "\n",
    "![x-3](x-3-in-x3-long-division.png)\n",
    "\n",
    "Here we see that $x - 3$ doesn't divide cleanly into $g(x)$, hence we need to try a different factor.  For some reason, my gut feeling says not to try one of $\\pm 9$ yet, so I'm going to try to see if -3 is a root, i.e. that $x + 3$ is a factor of $g(x)$.\n",
    "\n",
    "![x+3](x+3-in-x3-long-division.png)\n",
    "\n",
    "That works!  In other words, $x + 3$ factorises $g(x)$ and -3 is a root of $g(x)$ (and, because $g(x)$ is a factor of $f(x)$, -3 is also a root of $f(x)$).  We can now write $g(x)$ in its factorised form:\n",
    "\n",
    "$$\n",
    "\\begin{align}\n",
    "g(x) &= x^3 - 2x^2 - 12x + 9\\\\\n",
    "&= (x + 3)(x^2 - 5x + 3)\n",
    "\\end{align}\n",
    "$$\n",
    "\n",
    "which then means that we can write $f(x)$ in a more factorised form:\n",
    "\n",
    "$$\n",
    "\\begin{align}\n",
    "f(x) &= x^4 - 4 x^3 - 8 x^2 + 33 x - 18\\\\\n",
    "&= (x - 2)(x + 3)(x^2 - 5x + 3)\n",
    "\\end{align}\n",
    "$$\n",
    "\n",
    "Now that we've got the first two factors, it turns out that the remaining polynomial factor ($x^2 - 5x + 3$) doesn't have integer roots.  Let's call this polynomial $h(x)$:\n",
    "\n",
    "$$\n",
    "h(x) = x^2 - 5x + 3\n",
    "$$\n",
    "\n",
    "To find the remaining roots, we need to use the [quadratic formula](https://en.wikipedia.org/wiki/Quadratic_formula).\n",
    "\n",
    "$$\n",
    "x = \\frac{-b \\pm \\sqrt{b^2 - 4ac}}{2a}\n",
    "$$\n",
    "\n",
    "where we assume that the quadratic function is in the form\n",
    "\n",
    "$$\n",
    "f(x) = ax^2 + bx + c\n",
    "$$\n",
    "\n",
    "hence the variables $a$, $b$ and $c$ in the quadratic formula.\n",
    "\n",
    "Using the quadradtic formula, we find that the roots of $h(x)$ are:\n",
    "\n",
    "$$\n",
    "\\begin{align}\n",
    "x &= \\frac{5 \\pm \\sqrt{5^2 - 4 \\cdot 1 \\cdot 3}}{2 \\cdot 1}\\\\\n",
    "&= \\frac{5 \\pm \\sqrt{25 - 12}}{2}\\\\\n",
    "&= \\frac{5}{2} \\pm \\sqrt{13}{2}\\\\\n",
    "&= 4.303 \\text{ or } 0.697\n",
    "\\end{align}\n",
    "$$\n",
    "\n",
    "In Germany (this question was given to one of the high-school students I tutor in Germany, hence why I mention the German students' perspective here), it's common to use the [p-q formula](https://de.wikipedia.org/wiki/Quadratische_Gleichung#L%C3%B6sungsformel_f%C3%BCr_die_Normalform_(p-q-Formel)) for the same task (this formula assumes that the factor of the first term is 1, i.e. there is no factor on the $x^2$ term).  In English, this is the solution of the [reduced quadratic equation](https://en.wikipedia.org/wiki/Quadratic_equation#Reduced_quadratic_equation), which is:\n",
    "\n",
    "$$\n",
    "x = -\\frac{p}{2} \\pm \\sqrt{\\left(\\frac{p}{2}\\right)^{2} - q}\n",
    "$$\n",
    "\n",
    "were the quadratic function has this form\n",
    "\n",
    "$$\n",
    "f(x) = x^2 + px + q\n",
    "$$\n",
    "\n",
    "whence the variables $p$ and $q$ in the *p-q* formula.\n",
    "\n",
    "Using this formula, we get\n",
    "\n",
    "$$\n",
    "\\begin{align}\n",
    "x &= -\\frac{-5}{2} \\pm \\sqrt{\\frac{(-5)^2}{2} - 3}\\\\\n",
    "&= \\frac{5}{2} \\pm \\sqrt{\\frac{25}{2} - 3}\n",
    "\\end{align}\n",
    "$$\n",
    "\n",
    "(this is a hard-core question for students in year 11).  "
   ]
  },
  {
   "cell_type": "code",
   "execution_count": 1,
   "id": "9965bed6-7695-4f0b-9208-7e27ba15e30c",
   "metadata": {},
   "outputs": [
    {
     "data": {
      "text/plain": [
       "0.697224362268005"
      ]
     },
     "execution_count": 1,
     "metadata": {},
     "output_type": "execute_result"
    }
   ],
   "source": [
    "(5/2 - sqrt(13)/2).n()"
   ]
  },
  {
   "cell_type": "markdown",
   "id": "6bb84add-24ac-4c25-a55d-633bedb7e8db",
   "metadata": {},
   "source": [
    "## Finding the roots with a computer algebra program"
   ]
  },
  {
   "cell_type": "markdown",
   "id": "c4090877-95a1-494d-9af3-3cab1e02841a",
   "metadata": {},
   "source": [
    "Notes:\n",
    "  One can also use Wolfram Alpha for the same task:\n",
    "\n",
    "  - https://www.wolframalpha.com/input?i=f%28x%29+%3D+x%5E4+-+4+x%5E3+-+8+x%5E2+%2B+33+x+-+18\n",
    "  - https://www.wolframalpha.com/input?i=33+-+16+x+-+12+x%5E2+%2B+4+x%5E3&assumption=%22ClashPrefs%22+-%3E+%7B%22Math%22%7D\n",
    "  - https://www.wolframalpha.com/input?i=4+%28-4+-+6+x+%2B+3+x%5E2%29&assumption=%22ClashPrefs%22+-%3E+%7B%22Math%22%7D\n",
    "\n",
    "And doesn't have numerical precision issues that Sagemath has."
   ]
  },
  {
   "cell_type": "code",
   "execution_count": 2,
   "id": "b98baebf-4e15-4336-adcd-a0e59394f412",
   "metadata": {},
   "outputs": [],
   "source": [
    "x = var('x')\n",
    "f = x^4 - 4*x^3 - 8*x^2 + 33*x - 18"
   ]
  },
  {
   "cell_type": "code",
   "execution_count": 3,
   "id": "a5fcb7eb-273a-4c80-a37b-2ec9a5d1e808",
   "metadata": {},
   "outputs": [
    {
     "data": {
      "image/png": "[encoded data removed]",
      "text/plain": [
       "Graphics object consisting of 1 graphics primitive"
      ]
     },
     "execution_count": 3,
     "metadata": {},
     "output_type": "execute_result"
    }
   ],
   "source": [
    "plot(f, (x, -3.5, 5), axes_labels=['$x$', '$f(x)$'])"
   ]
  },
  {
   "cell_type": "markdown",
   "id": "972258f3-6020-47de-9b6f-25e5f20663b8",
   "metadata": {},
   "source": [
    "## Find the extrema"
   ]
  },
  {
   "cell_type": "code",
   "execution_count": 4,
   "id": "b0dadfa5-fcd5-4465-88e3-716ff7c5c000",
   "metadata": {},
   "outputs": [
    {
     "data": {
      "text/plain": [
       "4*x^3 - 12*x^2 - 16*x + 33"
      ]
     },
     "execution_count": 4,
     "metadata": {},
     "output_type": "execute_result"
    }
   ],
   "source": [
    "g = derivative(f)\n",
    "g"
   ]
  },
  {
   "cell_type": "code",
   "execution_count": 5,
   "id": "2e04b22d-7101-46a2-8e7d-5ae7d4c2484f",
   "metadata": {},
   "outputs": [
    {
     "data": {
      "image/png": "[encoded data removed]",
      "text/plain": [
       "Graphics object consisting of 1 graphics primitive"
      ]
     },
     "execution_count": 5,
     "metadata": {},
     "output_type": "execute_result"
    }
   ],
   "source": [
    "plot(g, (x, -3.5, 5), axes_labels=['$x$', '$f(x)$'])"
   ]
  },
  {
   "cell_type": "code",
   "execution_count": 6,
   "id": "bbfe1e38-09bd-46a8-a8b0-7a6d9524525a",
   "metadata": {},
   "outputs": [
    {
     "data": {
      "text/plain": [
       "[x == -1/2*(1/72*I*sqrt(19765)*sqrt(3) - 9/8)^(1/3)*(I*sqrt(3) + 1) - 7/6*(-I*sqrt(3) + 1)/(1/72*I*sqrt(19765)*sqrt(3) - 9/8)^(1/3) + 1, x == -1/2*(1/72*I*sqrt(19765)*sqrt(3) - 9/8)^(1/3)*(-I*sqrt(3) + 1) - 7/6*(I*sqrt(3) + 1)/(1/72*I*sqrt(19765)*sqrt(3) - 9/8)^(1/3) + 1, x == (1/72*I*sqrt(19765)*sqrt(3) - 9/8)^(1/3) + 7/3/(1/72*I*sqrt(19765)*sqrt(3) - 9/8)^(1/3) + 1]"
      ]
     },
     "execution_count": 6,
     "metadata": {},
     "output_type": "execute_result"
    }
   ],
   "source": [
    "xs = g.solve(x)\n",
    "xs"
   ]
  },
  {
   "cell_type": "code",
   "execution_count": 7,
   "id": "e51db3e4-44d9-41a6-ab86-e53be85d031a",
   "metadata": {},
   "outputs": [
    {
     "data": {
      "text/plain": [
       "[1.32639605767863 + 4.44089209850063e-16*I,\n",
       " -1.79380617338477,\n",
       " 3.46741011570614 - 2.22044604925031e-16*I]"
      ]
     },
     "execution_count": 7,
     "metadata": {},
     "output_type": "execute_result"
    }
   ],
   "source": [
    "[x.rhs().n() for x in xs]"
   ]
  },
  {
   "cell_type": "code",
   "execution_count": 8,
   "id": "0f61c71a-d6ae-492d-a3bf-b2328ba0606d",
   "metadata": {},
   "outputs": [
    {
     "data": {
      "text/plain": [
       "[1.32639605767863, -1.79380617338477, 3.46741011570614]"
      ]
     },
     "execution_count": 8,
     "metadata": {},
     "output_type": "execute_result"
    }
   ],
   "source": [
    "# We know that the roots are real, hence ignore the small (due to numerical error) imaginary parts\n",
    "[x.rhs().real().n() for x in xs]"
   ]
  },
  {
   "cell_type": "markdown",
   "id": "34173207-fcdc-4ad0-8258-c56809b38dd2",
   "metadata": {},
   "source": [
    "## Find the inflection points"
   ]
  },
  {
   "cell_type": "code",
   "execution_count": 9,
   "id": "9290a4a9-fef9-440e-9820-0312b2afa713",
   "metadata": {},
   "outputs": [
    {
     "data": {
      "text/plain": [
       "12*x^2 - 24*x - 16"
      ]
     },
     "execution_count": 9,
     "metadata": {},
     "output_type": "execute_result"
    }
   ],
   "source": [
    "h = derivative(g)\n",
    "h"
   ]
  },
  {
   "cell_type": "code",
   "execution_count": 10,
   "id": "5ac38317-e2d7-4f51-8701-384500a89027",
   "metadata": {},
   "outputs": [
    {
     "data": {
      "image/png": "[encoded data removed]",
      "text/plain": [
       "Graphics object consisting of 1 graphics primitive"
      ]
     },
     "execution_count": 10,
     "metadata": {},
     "output_type": "execute_result"
    }
   ],
   "source": [
    "plot(h, (x, -3.5, 5), axes_labels=['$x$', '$f(x)$'])"
   ]
  },
  {
   "cell_type": "code",
   "execution_count": 11,
   "id": "027f1faa-f701-4d00-a09a-e95e70a65d79",
   "metadata": {},
   "outputs": [
    {
     "data": {
      "text/plain": [
       "[x == -1/3*sqrt(21) + 1, x == 1/3*sqrt(21) + 1]"
      ]
     },
     "execution_count": 11,
     "metadata": {},
     "output_type": "execute_result"
    }
   ],
   "source": [
    "xs = h.solve(x)\n",
    "xs"
   ]
  },
  {
   "cell_type": "code",
   "execution_count": 12,
   "id": "f389c660-e2f8-42f9-ae4e-add66cf85751",
   "metadata": {},
   "outputs": [
    {
     "data": {
      "text/plain": [
       "[-0.527525231651947, 2.52752523165195]"
      ]
     },
     "execution_count": 12,
     "metadata": {},
     "output_type": "execute_result"
    }
   ],
   "source": [
    "[x.rhs().n() for x in xs]"
   ]
  },
  {
   "cell_type": "markdown",
   "id": "c8ca22d4-6f71-4d8f-9f6d-6a9d3a47dd4e",
   "metadata": {},
   "source": [
    "## Find the roots"
   ]
  },
  {
   "cell_type": "code",
   "execution_count": 13,
   "id": "ce97bae0-f8a5-4c59-891c-587b6260de3a",
   "metadata": {},
   "outputs": [
    {
     "data": {
      "text/plain": [
       "(x^2 - 5*x + 3)*(x + 3)*(x - 2)"
      ]
     },
     "execution_count": 13,
     "metadata": {},
     "output_type": "execute_result"
    }
   ],
   "source": [
    "f.factor()"
   ]
  },
  {
   "cell_type": "code",
   "execution_count": 14,
   "id": "422d4fb4-c2e3-45fe-8e37-a2024f7ed48f",
   "metadata": {},
   "outputs": [
    {
     "data": {
      "text/plain": [
       "[x == -1/2*sqrt(13) + 5/2, x == 1/2*sqrt(13) + 5/2]"
      ]
     },
     "execution_count": 14,
     "metadata": {},
     "output_type": "execute_result"
    }
   ],
   "source": [
    "g = x^2 - 5*x + 3\n",
    "xs = g.solve(x)\n",
    "xs"
   ]
  },
  {
   "cell_type": "code",
   "execution_count": 15,
   "id": "3a7eb49e-d134-4bf6-826a-1f3d9b582f26",
   "metadata": {},
   "outputs": [
    {
     "data": {
      "text/plain": [
       "[0.697224362268005, 4.30277563773199]"
      ]
     },
     "execution_count": 15,
     "metadata": {},
     "output_type": "execute_result"
    }
   ],
   "source": [
    "[x.rhs().n() for x in xs]"
   ]
  }
 ],
 "metadata": {
  "kernelspec": {
   "display_name": "SageMath 9.5",
   "language": "sage",
   "name": "sagemath"
  },
  "language_info": {
   "codemirror_mode": {
    "name": "ipython",
    "version": 3
   },
   "file_extension": ".py",
   "mimetype": "text/x-python",
   "name": "python",
   "nbconvert_exporter": "python",
   "pygments_lexer": "ipython3",
   "version": "3.11.2"
  }
 },
 "nbformat": 4,
 "nbformat_minor": 5
}
