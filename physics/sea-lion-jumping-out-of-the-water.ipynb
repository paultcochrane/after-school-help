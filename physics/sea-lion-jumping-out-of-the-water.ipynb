{
 "cells": [
  {
   "cell_type": "markdown",
   "id": "d9ef7f9a-f69f-43c9-beb5-4a1fcd7162d3",
   "metadata": {},
   "source": [
    "# Sea-lion jumping out of the water\n",
    "\n",
    "![sea lion jumping out of the water](sea-lion-jumping-out-of-water.jpeg)"
   ]
  },
  {
   "cell_type": "markdown",
   "id": "fd06c658-dc8f-4e6d-8ea0-053a19df5a86",
   "metadata": {},
   "source": [
    "A [Californian sea-lion](https://en.wikipedia.org/wiki/California_sea_lion) at the [Hannover Zoo](https://www.zoo-hannover.de/en) tows an inflatibile orca behind it and has jumped out of the water, reaching the top of its trajectory.\n",
    "\n",
    "  - (a) Given that the sea-lion has reached a height of `replace-me` m, what must have been the sea-lion's speed in the vertical direction as it left the water?\n",
    "\n",
    "  - (b) Is it possible to work out from the image information alone how high the sea-lion has jumped?  The camera used for the photo was a [Canon EOS 1100D](https://cameradecision.com/specs/Canon-EOS-1100D), which has sensor dimensions of `replace-me`.  The photo used a focal length of 116 mm and had a resolution of `replace-me` x `replace-me` pixels.  We assume that the width of the sea-lion in the image is approximately 46 cm (which is approximately the [maximum width of a Californian sea-lion](https://www.dimensions.com/element/california-sea-lion-zalophus-californianus)).  How wide is the sea-lion in units of camera pixels?\n",
    "\n",
    "  - (c) Describe the differences in the shape of the trajectory, had the sea-lion *not* been towing the inflatible orca.\n",
    "\n",
    "  - (d) The sea-lion weighs 390 kg; if it weighed 470 kg (and given the same speed out of the water), how high would it have jumped out of the water?\n",
    "\n",
    "  - (e) The optimal angle to jump out of the water is 45° (extra: show why).  What is the horizontal speed of the sea-lion as it jumps out of the water?\n",
    "\n",
    "  - (f) How far does the sea-lion travel through the air in the horizontal direction?\n",
    "\n",
    "  - (g) How far does the sea-lion travel along its trajectory?"
   ]
  },
  {
   "cell_type": "code",
   "execution_count": null,
   "id": "5c4ed617-3ca7-4f11-8e91-2daa74d183e0",
   "metadata": {},
   "outputs": [],
   "source": []
  }
 ],
 "metadata": {
  "kernelspec": {
   "display_name": "Python 3 (ipykernel)",
   "language": "python",
   "name": "python3"
  },
  "language_info": {
   "codemirror_mode": {
    "name": "ipython",
    "version": 3
   },
   "file_extension": ".py",
   "mimetype": "text/x-python",
   "name": "python",
   "nbconvert_exporter": "python",
   "pygments_lexer": "ipython3",
   "version": "3.9.2"
  }
 },
 "nbformat": 4,
 "nbformat_minor": 5
}
