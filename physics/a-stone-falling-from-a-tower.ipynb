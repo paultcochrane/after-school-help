{
 "cells": [
  {
   "cell_type": "markdown",
   "id": "3303f200-11a0-4949-ba46-f3afd33e1f0c",
   "metadata": {},
   "source": [
    "# A stone falling from a tower\n",
    "\n",
    "We've been given the following exercise:\n",
    "\n",
    "> Ein Stein fällt von einem Turm und benötigt 12 Sekunden bis zum Aufprall.  Bestimmen Sie rechnerich die Höhe des Turms und die Endgeschwindigkeit des Steins."
   ]
  },
  {
   "cell_type": "markdown",
   "id": "00a84d4b-c547-4d88-8693-017cdcf5620c",
   "metadata": {},
   "source": [
    "The first thing to do here is to translate the task into a language we're a bit more familiar with: English.  Here's one possible translation:\n",
    "\n",
    "> A stone[1] falls from a tower and takes 12 seconds until it hits the ground. Calculate the hight of the tower and the stone's final speed.\n",
    "\n",
    "[1] Thankfully the author of this question didn't forget the space between the first two words in the German version, otherwise this question could have had been rather different."
   ]
  },
  {
   "cell_type": "markdown",
   "id": "66db864a-e097-4fa1-b9b5-cfe96bfc4bbd",
   "metadata": {},
   "source": [
    "Important details: the initial velocity is zero, and the stone moves with constant acceleration.  This makes some of the calculations easier because we don't need to take any initial non-zero velocity into account, which would make working out the final velocity and the distance travelled tricker.\n",
    "\n",
    "Note also that the v-t diagram is a straight line (the velocity increases by the same amount in each time increment), where the acceleration is the slope of the line and looks like something this (note, this is *not* exact):"
   ]
  },
  {
   "cell_type": "code",
   "execution_count": 1,
   "id": "cc279724-c9b1-4532-96da-fdaa2d32f5d5",
   "metadata": {},
   "outputs": [
    {
     "data": {
      "image/png": "[encoded data removed]",
      "text/plain": [
       "Graphics object consisting of 1 graphics primitive"
      ]
     },
     "execution_count": 1,
     "metadata": {},
     "output_type": "execute_result"
    }
   ],
   "source": [
    "t = var('t')\n",
    "plot(10*t, (t,0,12), axes_labels=['t', 'v'])"
   ]
  },
  {
   "cell_type": "markdown",
   "id": "e278858c-f880-4fc2-9a93-2571a9023fe4",
   "metadata": {},
   "source": [
    "We can work out the answers to the questions in the exercise by using this information:\n",
    "  - the final velocity the value of the v-t diagram at the point where $t = 12$\n",
    "  - the distance the stone travelled (i.e. the height of the tower) is the area under the curve from $t=0$ up to $t=12$."
   ]
  },
  {
   "cell_type": "markdown",
   "id": "e86d8dc1-6379-4515-b6e8-321d6f506a05",
   "metadata": {},
   "source": [
    "## Finding the stone's final velocity\n",
    "\n",
    "We know that the slope of the curve is the acceleration (because this is a v-t diagram, and the curve is a straight line) and we know that the acceleration in the question is the acceleration due to gravity, $g = 9.81 \\mathrm{m/s^2}$.  Additionally, we know that the velocity was zero at the beginning, thus the final velocity is the slope multiplied by the amount of time the stone fell, i.e.\n",
    "\n",
    "$v = g \\cdot t = 9.81 \\mathrm{m/s^2} \\cdot 12 \\mathrm{s} = 117.72 \\mathrm{m/s}$\n",
    "\n",
    "Another way of looking at this is to note that constant acceleration means that the stone's speed increases by 9.81 m/s every second, and we know the stone increases its speed by this amount every second for 12 seconds, thus the final speed must be the acceleration multipled by the time it takes the stone to hit the ground, i.e.: \n",
    "\n",
    "$9.81 \\mathrm{m/s^2} \\cdot 12 \\mathrm{s} = 117.72 \\mathrm{m/s}$\n",
    "\n",
    "Note that this is roughly [the speed of a bullet being fired from a gun](https://en.wikipedia.org/wiki/Muzzle_velocity).  Put another way, it would REALLY hurt if the stone hit you!"
   ]
  },
  {
   "cell_type": "markdown",
   "id": "1e5d913a-0f0d-4d54-bf9d-70ea8ec72b56",
   "metadata": {},
   "source": [
    "## Working out the height of the tower\n",
    "\n",
    "Because the stone started at the top of the tower, once we know how far the stone travelled in the 12 seconds it took to fall to the ground, we therefore know the height of the tower.\n",
    "\n",
    "### The distance travelled via the area under the curve (as a right-angle triangle)\n",
    "\n",
    "The area under the curve from $t=0$ to $t=12$ is fairly easy to calculate, because the shape is a right-angled triangle.  The height of the triangle is the final velocity and the base of the triangle is the time it took for the stone to fall from the top of the tower to the ground.  The area of a right-angled triangle is half the length of the base of the triangle multiplied by the height of the triangle, i.e.\n",
    "\n",
    "$\\frac{1}{2} b \\cdot h$\n",
    "\n",
    "The base of the triangle is along the t-axis in the v-t diagram and is of length 12.  The height of the triangle is the final velocity of the stone as it hits the ground, which we just calculated, 117.72.  Thus the distance travelled, $s$ is:\n",
    "\n",
    "$s = \\frac{1}{2} b \\cdot h = \\frac{1}{2} 12 \\cdot 117.72 = 706.32 \\mathrm{m}$\n",
    "\n",
    "This is a *very* large tower (it's almost a kilometer high).  Given that the [Burj Khalifa](https://en.wikipedia.org/wiki/Burj_Khalifa) in Dubai is currently the tallest building in the world, with a height of 829.8 m, this answer isn't as crazy as it first looks.\n",
    "\n",
    "### The distance travelled via the formula for distance travelled at constant acceleration\n",
    "\n",
    "Another way to work out how far the stone fell in the 12 seconds (and thus the height of the tower) is to just use the formula for distance travelled from a standing start under constant acceleration due to gravity:\n",
    "\n",
    "$s = \\frac{1}{2} g \\cdot t^2$\n",
    "\n",
    "Plugging in the numbers gives:\n",
    "\n",
    "$s = \\frac{1}{2} \\cdot 9.81 \\mathrm{m/s^2} \\cdot (12 \\mathrm{s})^2 = 706.32 \\mathrm{m}$\n",
    "\n",
    "### The distance travelled via the area under the curve (a geometric argument)\n",
    "\n",
    "Yet another way we could calculate this is again to use the area under the curve.  We know that the final speed is $v = g \\cdot t$ and the time the stone takes to fall is $t$.  If we trace a line from the $v$ axis across to the curve at the height $g \\cdot t$, and then trace a line from the $t$ axis up to the curve at the point where the $g \\dot t$ line crosses the curve.  This forms a box like this:"
   ]
  },
  {
   "cell_type": "code",
   "execution_count": null,
   "id": "8983f2e4-809f-439d-9769-e625b6173a0a",
   "metadata": {},
   "outputs": [],
   "source": [
    "graph = Graphics()\n",
    "graph += plot(10*t, (t,0,12), axes_labels=['t', 'v'])\n",
    "graph += line([(0,120),(12,120)])\n",
    "graph += line([(12,0),(12,120)])\n",
    "graph += text(r'$g \\cdot t$',(-1.5,120),color='black')\n",
    "graph += text(r'$t$',(12,-15),color='black')\n",
    "graph.show()"
   ]
  },
  {
   "cell_type": "markdown",
   "id": "0aff3b59-9df7-426a-9b97-b3f966c13ee2",
   "metadata": {},
   "source": [
    "The height of this box is $g \\cdot t$ and the width of the box is $t$, thus its area is\n",
    "\n",
    "$A = g \\cdot t \\cdot t = g \\cdot t^2$\n",
    "\n",
    "Note how the curve cuts this box in exactly two pieces, thus the area under the curve is one half of the area of the box, i.e.\n",
    "\n",
    "$A_{\\mathrm{triangle}} = \\frac{1}{2} g \\cdot t^2$\n",
    "\n",
    "And because we know that the distance travelled $s$ is equal to the area under the curve in a v-t diagram, we have:\n",
    "\n",
    "$s = \\frac{1}{2} g \\cdot t^2$\n",
    "\n",
    "Plugging in the numbers for $g$ and $t$, we get:\n",
    "\n",
    "$s = \\frac{1}{2} \\cdot 9.81 \\mathrm{m/s^2} \\cdot (12 \\mathrm{s})^2 = 706.32 \\mathrm{m}$\n",
    "\n",
    "Which is the number we got previously."
   ]
  },
  {
   "cell_type": "markdown",
   "id": "8e9c80a6-f080-4b12-9595-f739f1f70c8a",
   "metadata": {},
   "source": [
    "### The distance travelled via the area under the curve (using integration)\n",
    "\n",
    "Because we know what the function describing the curve is, i.e.:\n",
    "\n",
    "$v(t) = g \\cdot t$\n",
    "\n",
    "and we want the area under this curve, we can use integration (from calculus) to work this out (integration is used to work out areas and volumes).  The area under the curve (and thus the distance travelled, $s$) is calculated like so:\n",
    "\n",
    "$s(t) = \\int g \\cdot t \\ dt$\n",
    "\n",
    "We know that $g$ is a constant, thus we can pull this value out of the integral, giving:\n",
    "\n",
    "$s(t) = g \\ \\int t \\ dt$\n",
    "\n",
    "You'll (for now) have to believe me that $\\int t \\ dt = \\frac{1}{2} t^2$.  Substituting this result into the function above, we have:\n",
    "\n",
    "$s(t) = g \\cdot \\frac{1}{2} \\cdot t^2$\n",
    "\n",
    "which we can put in a more familiar form:\n",
    "\n",
    "$s(t) = \\frac{1}{2} g \\cdot t^2$\n",
    "\n",
    "This is the formula for distance travelled after a time $t$ under constant acceleration $g$ which I mentioned in an earlier section.  Plugging in the value of the acceration due to gravity $g$ and the time it took the stone hit the ground (12 s) gives us:\n",
    "\n",
    "$s(12) = \\frac{1}{2} 9.81 \\mathrm{m/s^2} \\cdot (12 \\mathrm{s})^2 = 706.32 \\mathrm{m}$"
   ]
  },
  {
   "cell_type": "markdown",
   "id": "f454bfc6-6f99-4151-8c4b-c245632c6587",
   "metadata": {},
   "source": [
    "### Intuitively understanding how we got the integral value\n",
    "\n",
    "Just in case you're interested and want to get a better idea of why $\\int t \\ dt = \\frac{1}{2} t^2$, note that integration is the inverse of differentiation (which finds tangents to curves) and is sometimes called anti-differentiation because of this inverse (i.e. opposite) relationship.  Thus, if we take the answer of the integral and differentiate it, we should get back the velocity function $v(t) = g \\cdot t$.  Let's give it a go!\n",
    "\n",
    "We want to perform this differentiation:\n",
    "\n",
    "$v(t) = \\frac{d}{dt} \\frac{1}{2} g \\cdot t^2$\n",
    "\n",
    "where one should note that since differentiation finds the slope of a curve and the slope of the curve we're interested in at present is that of the v-t diagram shown above, we are now finding the velocity the stone as a function of time.  Thus the derivative of a distance function as a function of time is the velocity as a function of time.  Or another way of putting it: velocity is the derivative of the distance.  Let's get back to calculating...\n",
    "\n",
    "The $\\frac{1}{2}$ and factor of $g$ are constants, so we can take these out of the differentation:\n",
    "\n",
    "$\\frac{1}{2} g \\ \\frac{d}{dt} t^2$\n",
    "\n",
    "thus effectively, we only have to differentiate the function $t^2$ (but we need to remember that we still have the constants out the front, however we can ignore them for the differentiation step).\n",
    "\n",
    "The general formula for differentiation of an exponent is as follows:\n",
    "\n",
    "$\\frac{d}{dx} \\ x^n = n \\cdot x^{n-1}$\n",
    "\n",
    "Thus, if we differentiate the function $t^2$, we get\n",
    "\n",
    "$\\frac{d}{dt} \\ t^2 = 2 \\cdot t$\n",
    "\n",
    "Putting the constants back in to give us our velocity function $v(t)$, we get:\n",
    "\n",
    "$v(t) = \\frac{1}{2} g \\cdot 2 \\cdot t$\n",
    "\n",
    "which simplifies to\n",
    "\n",
    "$v(t) = g \\cdot t$\n",
    "\n",
    "which is the function describing the curve and we're thus back at the start point of the previous section (which is what we wanted to do, after all differentiation is the inverse of integration)."
   ]
  },
  {
   "cell_type": "code",
   "execution_count": null,
   "id": "a5d556d9-8bd3-490b-b3bf-c75cdc99592c",
   "metadata": {},
   "outputs": [],
   "source": []
  }
 ],
 "metadata": {
  "kernelspec": {
   "display_name": "SageMath 9.2",
   "language": "sage",
   "name": "sagemath"
  },
  "language_info": {
   "codemirror_mode": {
    "name": "ipython",
    "version": 3
   },
   "file_extension": ".py",
   "mimetype": "text/x-python",
   "name": "python",
   "nbconvert_exporter": "python",
   "pygments_lexer": "ipython3",
   "version": "3.9.2"
  }
 },
 "nbformat": 4,
 "nbformat_minor": 5
}
